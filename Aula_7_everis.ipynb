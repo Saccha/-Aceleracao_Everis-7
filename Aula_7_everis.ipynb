{
  "nbformat": 4,
  "nbformat_minor": 0,
  "metadata": {
    "colab": {
      "name": "Aula 7 everis.ipynb",
      "provenance": [],
      "collapsed_sections": [],
      "authorship_tag": "ABX9TyNiBDmXQN1OGiFrdLnVR3bR"
    },
    "kernelspec": {
      "name": "python3",
      "display_name": "Python 3"
    }
  },
  "cells": [
    {
      "cell_type": "code",
      "metadata": {
        "colab": {
          "base_uri": "https://localhost:8080/"
        },
        "id": "5uANoKBz-zSP",
        "outputId": "cfbad144-1696-42a2-bf53-e69e50b9c300"
      },
      "source": [
        "!pip install confluent_kafka\r\n"
      ],
      "execution_count": 1,
      "outputs": [
        {
          "output_type": "stream",
          "text": [
            "Collecting confluent_kafka\n",
            "\u001b[?25l  Downloading https://files.pythonhosted.org/packages/74/04/b131250b88c80201c4a648af1ab098798e1dcbf20807f79e3ce6e72c4ef4/confluent_kafka-1.5.0-cp36-cp36m-manylinux1_x86_64.whl (8.1MB)\n",
            "\u001b[K     |████████████████████████████████| 8.1MB 8.6MB/s \n",
            "\u001b[?25hInstalling collected packages: confluent-kafka\n",
            "Successfully installed confluent-kafka-1.5.0\n"
          ],
          "name": "stdout"
        }
      ]
    },
    {
      "cell_type": "code",
      "metadata": {
        "id": "4JmX-H3mDScY"
      },
      "source": [
        "import sys\r\n",
        "import os\r\n",
        "\r\n",
        "from confluent_kafka import Producer\r\n",
        "\r\n",
        "def delivery_callback(err, msg):\r\n",
        "    if err:\r\n",
        "        print('%% Message failed delivery: %s\\n', err)\r\n",
        "    else:\r\n",
        "        print('%% Message delivered to %s [%d]\\n',\r\n",
        "                          (msg.topic(), msg.partition()))\r\n",
        "\r\n",
        "def createTopic():\r\n",
        "    print(\"init\");\r\n",
        "    #topic = '25fi2ymi-topic1'\r\n",
        "    topic = '25fi2ymi-default'\r\n",
        "\r\n",
        "    # Consumer configuration\r\n",
        "    # See https://github.com/edenhill/librdkafka/blob/master/CONFIGURATION.md\r\n",
        "    conf = {\r\n",
        "        'bootstrap.servers': 'tricycle-01.srvs.cloudkafka.com:9094,tricycle-02.srvs.cloudkafka.com:9094,tricycle-03.srvs.cloudkafka.com:9094',\r\n",
        "        'session.timeout.ms': 6000,\r\n",
        "        'default.topic.config': {'auto.offset.reset': 'smallest'},\r\n",
        "        'security.protocol': 'SASL_SSL',\r\n",
        "\t'sasl.mechanisms': 'SCRAM-SHA-256',\r\n",
        "        'sasl.username': '25fi2ymi',\r\n",
        "        'sasl.password': 'owaqWZ8jve0rsct5yHS3l9xGGK1rIL82'\r\n",
        "    }\r\n",
        "\r\n",
        "    p = Producer(conf)\r\n",
        "\r\n",
        "    try:\r\n",
        "        p.produce(topic, \"my message new 2\", callback=delivery_callback)\r\n",
        "    except BufferError as e:\r\n",
        "        print('%% Local producer queue is full (%d messages awaiting delivery): try again\\n',\r\n",
        "                          len(p))\r\n",
        "    p.poll(0)\r\n",
        "\r\n",
        "    print('%% Waiting for %d deliveries\\n' % len(p))\r\n",
        "    p.flush()\r\n",
        "\r\n",
        "createTopic();"
      ],
      "execution_count": null,
      "outputs": []
    },
    {
      "cell_type": "code",
      "metadata": {
        "colab": {
          "base_uri": "https://localhost:8080/"
        },
        "id": "bFMcMUS5FiSp",
        "outputId": "f7b716ca-9688-4a86-c5ef-ede7aea4a149"
      },
      "source": [
        "!pip install confluent_kafka"
      ],
      "execution_count": 3,
      "outputs": [
        {
          "output_type": "stream",
          "text": [
            "Requirement already satisfied: confluent_kafka in /usr/local/lib/python3.6/dist-packages (1.5.0)\n"
          ],
          "name": "stdout"
        }
      ]
    },
    {
      "cell_type": "code",
      "metadata": {
        "id": "xmkkk7QsFjQq"
      },
      "source": [
        "import sys\r\n",
        "import os\r\n",
        "\r\n",
        "from confluent_kafka import Consumer, KafkaException, KafkaError\r\n",
        "\r\n",
        "def createConsumer():\r\n",
        "\r\n",
        "    topics = ['25fi2ymi-default']\r\n",
        "\r\n",
        "    # Consumer configuration\r\n",
        "    # See https://github.com/edenhill/librdkafka/blob/master/CONFIGURATION.md\r\n",
        "    conf = {\r\n",
        "        'bootstrap.servers': 'tricycle-01.srvs.cloudkafka.com:9094,tricycle-02.srvs.cloudkafka.com:9094,tricycle-03.srvs.cloudkafka.com:9094',\r\n",
        "        'group.id': \"%s-consumer\" % '25fi2ymi',\r\n",
        "        'session.timeout.ms': 6000,\r\n",
        "        'default.topic.config': {'auto.offset.reset': 'smallest'},\r\n",
        "        'security.protocol': 'SASL_SSL',\r\n",
        "\t'sasl.mechanisms': 'SCRAM-SHA-256',\r\n",
        "        'sasl.username': '25fi2ymi',\r\n",
        "        'sasl.password': 'owaqWZ8jve0rsct5yHS3l9xGGK1rIL82'\r\n",
        "    }\r\n",
        "\r\n",
        "    c = Consumer(conf)\r\n",
        "    c.subscribe(topics)\r\n",
        "    try:\r\n",
        "        while True:\r\n",
        "            msg = c.poll(timeout=1.0)\r\n",
        "            if msg is None:\r\n",
        "                continue\r\n",
        "            if msg.error():\r\n",
        "                # Error or event\r\n",
        "                if msg.error().code() == KafkaError._PARTITION_EOF:\r\n",
        "                    # End of partition event\r\n",
        "                    sys.stderr.write('%% %s [%d] reached end at offset %d\\n' %\r\n",
        "                                     (msg.topic(), msg.partition(), msg.offset()))\r\n",
        "                elif msg.error():\r\n",
        "                    # Error\r\n",
        "                    raise KafkaException(msg.error())\r\n",
        "            else:\r\n",
        "                # Proper message\r\n",
        "                sys.stderr.write('%% %s [%d] at offset %d with key %s:\\n' %\r\n",
        "                                 (msg.topic(), msg.partition(), msg.offset(),\r\n",
        "                                  str(msg.key())))\r\n",
        "                print(msg.value())\r\n",
        "\r\n",
        "    except KeyboardInterrupt:\r\n",
        "        sys.stderr.write('%% Aborted by user\\n')\r\n",
        "\r\n",
        "    # Close down consumer to commit final offsets.\r\n",
        "    c.close()\r\n",
        "\r\n",
        "createConsumer()"
      ],
      "execution_count": null,
      "outputs": []
    }
  ]
}